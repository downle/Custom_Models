{
 "cells": [
  {
   "cell_type": "code",
   "execution_count": 2,
   "metadata": {},
   "outputs": [],
   "source": [
    "import requests\n",
    "import sys\n",
    "import pandas as pd\n",
    "import random\n",
    "import numpy as np\n",
    "import datarobot as dr\n",
    "import urllib3\n",
    "from datarobot import Deployment\n",
    "import time\n",
    "urllib3.disable_warnings()\n",
    "\n",
    "API_URL = 'https://cfds-ccm-prod.orm.datarobot.com/predApi/v1.0/deployments/{deployment_id}/predictions'    # noqa\n",
    "API_KEY = 'NWUyNmYyNmMwOWEyMzcwNTFiMWM5MjI4OlA3dmV0Y3kyclRSTTBWdG01WmpJSnJKVDUwbS8vejRXN3Fjb0oxTitQdTg9'\n",
    "DATAROBOT_KEY = '544ec55f-61bf-f6ee-0caf-15c7f919a45d'\n",
    "\n",
    "DEPLOYMENT_ID = '5f76080011bc9b05c5913638'\n",
    "\n",
    "MAX_PREDICTION_FILE_SIZE_BYTES = 52428800  # 50 MB"
   ]
  },
  {
   "cell_type": "code",
   "execution_count": 3,
   "metadata": {},
   "outputs": [
    {
     "data": {
      "text/plain": [
       "<datarobot.rest.RESTClientObject at 0x7fca085cb198>"
      ]
     },
     "execution_count": 3,
     "metadata": {},
     "output_type": "execute_result"
    }
   ],
   "source": [
    "endpoint = 'https://app.datarobot.com/api/v2'\n",
    "# Put your API token here\n",
    "api_token = API_KEY\n",
    "dr.Client(token=api_token, endpoint=endpoint, ssl_verify=False)"
   ]
  },
  {
   "cell_type": "code",
   "execution_count": 14,
   "metadata": {},
   "outputs": [],
   "source": [
    "df = pd.read_csv('../Churn_Telecom/Data/DR_Demo_Telecomms_Churn_Prediction.csv')"
   ]
  },
  {
   "cell_type": "markdown",
   "metadata": {},
   "source": [
    "### Simulation of new data"
   ]
  },
  {
   "cell_type": "code",
   "execution_count": 30,
   "metadata": {},
   "outputs": [],
   "source": [
    "df_new = pd.DataFrame()\n",
    "for i in range(50):\n",
    "    numeric_features = list(df.select_dtypes(include=np.number).columns.values)\n",
    "    other_features = list(set(df.columns) - set(numeric_features))\n",
    "\n",
    "    df_sample = df.sample(frac=0.5, replace=True, random_state=1234)\n",
    "    df_sample_simlated = df_sample[numeric_features].apply(lambda x: x*random.uniform(0.9, 1.1), axis=1)\n",
    "    df_sample_simlated[other_features] = df_sample[other_features]\n",
    "\n",
    "    df_new = df_new.append(df_sample_simlated, ignore_index=True)\n",
    "\n",
    "df_new = df_new.reset_index()\n",
    "df_new['association_id']= df_new.index"
   ]
  },
  {
   "cell_type": "markdown",
   "metadata": {},
   "source": [
    "### Create prediction data"
   ]
  },
  {
   "cell_type": "code",
   "execution_count": 28,
   "metadata": {},
   "outputs": [
    {
     "name": "stdout",
     "output_type": "stream",
     "text": [
      "0\n",
      "1\n",
      "2\n",
      "3\n",
      "4\n"
     ]
    },
    {
     "ename": "KeyboardInterrupt",
     "evalue": "",
     "output_type": "error",
     "traceback": [
      "\u001b[0;31m---------------------------------------------------------------------------\u001b[0m",
      "\u001b[0;31mKeyboardInterrupt\u001b[0m                         Traceback (most recent call last)",
      "\u001b[0;32m<ipython-input-28-efb88535fd05>\u001b[0m in \u001b[0;36m<module>\u001b[0;34m\u001b[0m\n\u001b[1;32m     32\u001b[0m \u001b[0;34m\u001b[0m\u001b[0m\n\u001b[1;32m     33\u001b[0m     \u001b[0mprint\u001b[0m\u001b[0;34m(\u001b[0m\u001b[0mi\u001b[0m\u001b[0;34m)\u001b[0m\u001b[0;34m\u001b[0m\u001b[0;34m\u001b[0m\u001b[0m\n\u001b[0;32m---> 34\u001b[0;31m     \u001b[0mtime\u001b[0m\u001b[0;34m.\u001b[0m\u001b[0msleep\u001b[0m\u001b[0;34m(\u001b[0m\u001b[0;36m5\u001b[0m\u001b[0;34m)\u001b[0m\u001b[0;34m\u001b[0m\u001b[0;34m\u001b[0m\u001b[0m\n\u001b[0m",
      "\u001b[0;31mKeyboardInterrupt\u001b[0m: "
     ]
    }
   ],
   "source": [
    "rounds = round(df_new.shape[0]/100)\n",
    "for i in range(rounds):\n",
    "    df_pred = df_new[i*100:(i+1)*100-1]\n",
    "    df_pred.loc[:, 'Total.day.minutes'] = df_pred.loc[:, 'Total.day.minutes']*random.randint(1, 3)\n",
    "    df_pred.loc[:,'Customer.service.calls'] = df_pred.loc[:,'Customer.service.calls']*random.randint(1, 2)\n",
    "    json_records = df_pred.to_json(orient ='records') \n",
    "    \n",
    "    \n",
    "    \n",
    "    # Set HTTP headers. The charset should match the contents of the file.\n",
    "    headers = {\n",
    "        'Content-Type': 'application/json; charset=UTF-8',\n",
    "        'Authorization': 'Bearer {}'.format(API_KEY),\n",
    "        'DataRobot-Key': DATAROBOT_KEY,\n",
    "    }\n",
    "\n",
    "    url = API_URL.format(deployment_id=DEPLOYMENT_ID)\n",
    "    # Make API request for predictions\n",
    "    predictions_response = requests.post(\n",
    "        url,\n",
    "        data=json_records,\n",
    "        headers=headers,\n",
    "    )\n",
    "    \n",
    "    \n",
    "    actual_records = df_pred[['Churn','association_id']]\n",
    "    actual_records.columns = ['actual_value','association_id']\n",
    "    actual_records.loc[:,'association_id'] = actual_records.loc[:,'association_id'].astype(str)\n",
    "\n",
    "    deployment = Deployment.get(deployment_id=DEPLOYMENT_ID)\n",
    "    deployment.submit_actuals(actual_records)\n",
    "    \n",
    "    print(i)\n",
    "    time.sleep(3600)"
   ]
  },
  {
   "cell_type": "code",
   "execution_count": 184,
   "metadata": {},
   "outputs": [],
   "source": [
    "actual_records = df_pred[['Churn','association_id']]\n",
    "actual_records.columns = ['actual_value','association_id']\n",
    "actual_records.loc[:,'association_id'] = actual_records.loc[:,'association_id'].astype(str)\n",
    "\n",
    "deployment = Deployment.get(deployment_id=DEPLOYMENT_ID)\n",
    "deployment.submit_actuals(actual_records)"
   ]
  },
  {
   "cell_type": "code",
   "execution_count": 247,
   "metadata": {},
   "outputs": [],
   "source": []
  },
  {
   "cell_type": "code",
   "execution_count": 241,
   "metadata": {},
   "outputs": [],
   "source": []
  },
  {
   "cell_type": "code",
   "execution_count": null,
   "metadata": {},
   "outputs": [],
   "source": []
  },
  {
   "cell_type": "code",
   "execution_count": null,
   "metadata": {},
   "outputs": [],
   "source": []
  },
  {
   "cell_type": "code",
   "execution_count": null,
   "metadata": {},
   "outputs": [],
   "source": [
    "json_actual_records = actual_records.to_json(orient ='records')"
   ]
  },
  {
   "cell_type": "code",
   "execution_count": 233,
   "metadata": {},
   "outputs": [
    {
     "data": {
      "text/html": [
       "<div>\n",
       "<style scoped>\n",
       "    .dataframe tbody tr th:only-of-type {\n",
       "        vertical-align: middle;\n",
       "    }\n",
       "\n",
       "    .dataframe tbody tr th {\n",
       "        vertical-align: top;\n",
       "    }\n",
       "\n",
       "    .dataframe thead th {\n",
       "        text-align: right;\n",
       "    }\n",
       "</style>\n",
       "<table border=\"1\" class=\"dataframe\">\n",
       "  <thead>\n",
       "    <tr style=\"text-align: right;\">\n",
       "      <th></th>\n",
       "      <th>actual_value</th>\n",
       "      <th>association_id</th>\n",
       "    </tr>\n",
       "  </thead>\n",
       "  <tbody>\n",
       "    <tr>\n",
       "      <th>66700</th>\n",
       "      <td>False</td>\n",
       "      <td>66700</td>\n",
       "    </tr>\n",
       "    <tr>\n",
       "      <th>66701</th>\n",
       "      <td>False</td>\n",
       "      <td>66701</td>\n",
       "    </tr>\n",
       "    <tr>\n",
       "      <th>66702</th>\n",
       "      <td>False</td>\n",
       "      <td>66702</td>\n",
       "    </tr>\n",
       "    <tr>\n",
       "      <th>66703</th>\n",
       "      <td>False</td>\n",
       "      <td>66703</td>\n",
       "    </tr>\n",
       "    <tr>\n",
       "      <th>66704</th>\n",
       "      <td>False</td>\n",
       "      <td>66704</td>\n",
       "    </tr>\n",
       "    <tr>\n",
       "      <th>...</th>\n",
       "      <td>...</td>\n",
       "      <td>...</td>\n",
       "    </tr>\n",
       "    <tr>\n",
       "      <th>66794</th>\n",
       "      <td>False</td>\n",
       "      <td>66794</td>\n",
       "    </tr>\n",
       "    <tr>\n",
       "      <th>66795</th>\n",
       "      <td>False</td>\n",
       "      <td>66795</td>\n",
       "    </tr>\n",
       "    <tr>\n",
       "      <th>66796</th>\n",
       "      <td>False</td>\n",
       "      <td>66796</td>\n",
       "    </tr>\n",
       "    <tr>\n",
       "      <th>66797</th>\n",
       "      <td>True</td>\n",
       "      <td>66797</td>\n",
       "    </tr>\n",
       "    <tr>\n",
       "      <th>66798</th>\n",
       "      <td>False</td>\n",
       "      <td>66798</td>\n",
       "    </tr>\n",
       "  </tbody>\n",
       "</table>\n",
       "<p>99 rows × 2 columns</p>\n",
       "</div>"
      ],
      "text/plain": [
       "       actual_value  association_id\n",
       "66700         False           66700\n",
       "66701         False           66701\n",
       "66702         False           66702\n",
       "66703         False           66703\n",
       "66704         False           66704\n",
       "...             ...             ...\n",
       "66794         False           66794\n",
       "66795         False           66795\n",
       "66796         False           66796\n",
       "66797          True           66797\n",
       "66798         False           66798\n",
       "\n",
       "[99 rows x 2 columns]"
      ]
     },
     "execution_count": 233,
     "metadata": {},
     "output_type": "execute_result"
    }
   ],
   "source": [
    "actual_records"
   ]
  },
  {
   "cell_type": "code",
   "execution_count": 220,
   "metadata": {},
   "outputs": [],
   "source": [
    "# Set HTTP headers. The charset should match the contents of the file.\n",
    "API_URL = 'https://app.datarobot.com/api/v2/deployments/{deployment_id}/actuals/fromJSON/'    # noqa\n",
    "headers = {\n",
    "    'Content-Type': 'application/json; charset=UTF-8',\n",
    "    'Authorization': 'Bearer {}'.format(API_KEY),\n",
    "    'DataRobot-Key': DATAROBOT_KEY,\n",
    "}\n",
    "url = API_URL.format(deployment_id=DEPLOYMENT_ID)\n",
    "# Make API request for predictions\n",
    "predictions_response = requests.post(\n",
    "    url, \n",
    "    json=json_actual_records, \n",
    "    headers=headers,\n",
    ")"
   ]
  },
  {
   "cell_type": "code",
   "execution_count": 238,
   "metadata": {},
   "outputs": [],
   "source": []
  },
  {
   "cell_type": "code",
   "execution_count": null,
   "metadata": {},
   "outputs": [],
   "source": []
  }
 ],
 "metadata": {
  "kernelspec": {
   "display_name": "Python 3",
   "language": "python",
   "name": "python3"
  },
  "language_info": {
   "codemirror_mode": {
    "name": "ipython",
    "version": 3
   },
   "file_extension": ".py",
   "mimetype": "text/x-python",
   "name": "python",
   "nbconvert_exporter": "python",
   "pygments_lexer": "ipython3",
   "version": "3.6.7"
  }
 },
 "nbformat": 4,
 "nbformat_minor": 2
}
